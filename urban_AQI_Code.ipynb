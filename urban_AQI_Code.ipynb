{
  "nbformat": 4,
  "nbformat_minor": 0,
  "metadata": {
    "colab": {
      "provenance": []
    },
    "kernelspec": {
      "name": "python3",
      "display_name": "Python 3"
    },
    "language_info": {
      "name": "python"
    }
  },
  "cells": [
    {
      "cell_type": "code",
      "source": [
        "import numpy as np\n",
        "from tensorflow.keras.models import Sequential\n",
        "from tensorflow.keras.layers import Conv2D, MaxPooling2D, Flatten, Dense\n",
        "\n",
        "# Generate synthetic data (replace with your real data)\n",
        "num_samples = 1000\n",
        "num_rows, num_cols, num_channels = 32, 32, 3  # Example dimensions for a 2D grid\n",
        "X_train = np.random.rand(num_samples, num_rows, num_cols, num_channels)\n",
        "y_train = np.random.rand(num_samples)  # Random air quality values (replace with your real target values)\n",
        "\n",
        "# Define CNN model architecture\n",
        "model = Sequential([\n",
        "    Conv2D(32, kernel_size=(3, 3), activation='relu', input_shape=(num_rows, num_cols, num_channels)),\n",
        "    MaxPooling2D(pool_size=(2, 2)),\n",
        "    Conv2D(64, kernel_size=(3, 3), activation='relu'),\n",
        "    MaxPooling2D(pool_size=(2, 2)),\n",
        "    Flatten(),\n",
        "    Dense(128, activation='relu'),\n",
        "    Dense(1)  # Output layer for regression\n",
        "])\n",
        "\n",
        "# Compile model\n",
        "model.compile(optimizer='adam', loss='mean_squared_error')\n",
        "\n",
        "# Train model\n",
        "model.fit(X_train, y_train, epochs=10, batch_size=32, validation_split=0.2)\n",
        "\n",
        "X_test = np.random.rand(10, num_rows, num_cols, num_channels)  # Generating 10 samples for testing\n",
        "\n",
        "# Predict AQI values\n",
        "y_pred = model.predict(X_test)\n",
        "\n",
        "# Print the predicted AQI values\n",
        "print(\"Predicted AQI values:\")\n",
        "print(y_pred)\n"
      ],
      "metadata": {
        "colab": {
          "base_uri": "https://localhost:8080/"
        },
        "id": "lEHcIbjAMQ_c",
        "outputId": "c03c177f-d867-4ee0-c18a-7c0e7a99bb57"
      },
      "execution_count": 12,
      "outputs": [
        {
          "output_type": "stream",
          "name": "stdout",
          "text": [
            "Epoch 1/10\n",
            "25/25 [==============================] - 2s 47ms/step - loss: 0.1544 - val_loss: 0.0953\n",
            "Epoch 2/10\n",
            "25/25 [==============================] - 1s 38ms/step - loss: 0.0857 - val_loss: 0.0945\n",
            "Epoch 3/10\n",
            "25/25 [==============================] - 1s 58ms/step - loss: 0.0839 - val_loss: 0.0953\n",
            "Epoch 4/10\n",
            "25/25 [==============================] - 2s 64ms/step - loss: 0.0833 - val_loss: 0.0921\n",
            "Epoch 5/10\n",
            "25/25 [==============================] - 1s 37ms/step - loss: 0.0855 - val_loss: 0.0958\n",
            "Epoch 6/10\n",
            "25/25 [==============================] - 1s 38ms/step - loss: 0.0802 - val_loss: 0.0956\n",
            "Epoch 7/10\n",
            "25/25 [==============================] - 1s 41ms/step - loss: 0.0784 - val_loss: 0.0921\n",
            "Epoch 8/10\n",
            "25/25 [==============================] - 1s 41ms/step - loss: 0.0797 - val_loss: 0.0922\n",
            "Epoch 9/10\n",
            "25/25 [==============================] - 1s 41ms/step - loss: 0.0790 - val_loss: 0.0942\n",
            "Epoch 10/10\n",
            "25/25 [==============================] - 1s 41ms/step - loss: 0.0675 - val_loss: 0.0927\n"
          ]
        },
        {
          "output_type": "stream",
          "name": "stderr",
          "text": [
            "WARNING:tensorflow:5 out of the last 11 calls to <function Model.make_predict_function.<locals>.predict_function at 0x7ed551e4a170> triggered tf.function retracing. Tracing is expensive and the excessive number of tracings could be due to (1) creating @tf.function repeatedly in a loop, (2) passing tensors with different shapes, (3) passing Python objects instead of tensors. For (1), please define your @tf.function outside of the loop. For (2), @tf.function has reduce_retracing=True option that can avoid unnecessary retracing. For (3), please refer to https://www.tensorflow.org/guide/function#controlling_retracing and https://www.tensorflow.org/api_docs/python/tf/function for  more details.\n"
          ]
        },
        {
          "output_type": "stream",
          "name": "stdout",
          "text": [
            "1/1 [==============================] - 0s 81ms/step\n",
            "Predicted AQI values:\n",
            "[[0.48768356]\n",
            " [0.47434455]\n",
            " [0.54802805]\n",
            " [0.49427274]\n",
            " [0.47728777]\n",
            " [0.52549255]\n",
            " [0.43257436]\n",
            " [0.4145079 ]\n",
            " [0.4550312 ]\n",
            " [0.44619402]]\n"
          ]
        }
      ]
    }
  ]
}